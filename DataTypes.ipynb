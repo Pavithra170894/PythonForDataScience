{
  "nbformat": 4,
  "nbformat_minor": 0,
  "metadata": {
    "colab": {
      "provenance": []
    },
    "kernelspec": {
      "name": "python3",
      "display_name": "Python 3"
    },
    "language_info": {
      "name": "python"
    }
  },
  "cells": [
    {
      "cell_type": "markdown",
      "source": [
        "# Data Types"
      ],
      "metadata": {
        "id": "wP3xhV96l4oA"
      }
    },
    {
      "cell_type": "code",
      "execution_count": 2,
      "metadata": {
        "id": "z-3CL5ailboA",
        "colab": {
          "base_uri": "https://localhost:8080/"
        },
        "outputId": "00e6b97c-36cb-4024-97c3-8a6f522b388e"
      },
      "outputs": [
        {
          "output_type": "stream",
          "name": "stdout",
          "text": [
            "The type of number 5 is :  <class 'int'>\n"
          ]
        }
      ],
      "source": [
        "num = 5\n",
        "print(\"The type of number 5 is : \", type(num))"
      ]
    },
    {
      "cell_type": "code",
      "source": [
        "character = 'a'\n",
        "print(\"The type of character a is : \", type(character))"
      ],
      "metadata": {
        "colab": {
          "base_uri": "https://localhost:8080/"
        },
        "id": "gzMNwAshmA_7",
        "outputId": "561a4c7c-acc2-4335-ace8-edc6c6b11b32"
      },
      "execution_count": 4,
      "outputs": [
        {
          "output_type": "stream",
          "name": "stdout",
          "text": [
            "The type of character a is :  <class 'str'>\n"
          ]
        }
      ]
    },
    {
      "cell_type": "code",
      "source": [
        "text = 'helloworld'\n",
        "print(\"The type of string helloworld is : \", type(text))"
      ],
      "metadata": {
        "colab": {
          "base_uri": "https://localhost:8080/"
        },
        "id": "zDg4960tmPCa",
        "outputId": "ec6541c2-5f68-4d87-9c49-de8864d17573"
      },
      "execution_count": 5,
      "outputs": [
        {
          "output_type": "stream",
          "name": "stdout",
          "text": [
            "The type of string helloworld is :  <class 'str'>\n"
          ]
        }
      ]
    },
    {
      "cell_type": "code",
      "source": [
        "boolean = True\n",
        "print(\"The type of boolean 0 is : \", type(boolean))"
      ],
      "metadata": {
        "colab": {
          "base_uri": "https://localhost:8080/"
        },
        "id": "WeN2ZSebmZLK",
        "outputId": "f6e4b1cc-9171-4bd1-87ba-52df751e022b"
      },
      "execution_count": 7,
      "outputs": [
        {
          "output_type": "stream",
          "name": "stdout",
          "text": [
            "The type of boolean 0 is :  <class 'bool'>\n"
          ]
        }
      ]
    },
    {
      "cell_type": "code",
      "source": [
        "floating_point = 7.6\n",
        "print(\"The type of flaot 7.6 is : \", type(floating_point))"
      ],
      "metadata": {
        "colab": {
          "base_uri": "https://localhost:8080/"
        },
        "id": "fXO1AIuOmeyf",
        "outputId": "b0cf27fa-7fa6-4673-f7e4-780077499f85"
      },
      "execution_count": 8,
      "outputs": [
        {
          "output_type": "stream",
          "name": "stdout",
          "text": [
            "The type of flaot 7.6 is :  <class 'float'>\n"
          ]
        }
      ]
    },
    {
      "cell_type": "markdown",
      "source": [
        "# Strings"
      ],
      "metadata": {
        "id": "wT0dn8ETmtE1"
      }
    },
    {
      "cell_type": "markdown",
      "source": [
        "## Accessing String Elements"
      ],
      "metadata": {
        "id": "xiKWUPlemyZ-"
      }
    },
    {
      "cell_type": "code",
      "source": [
        "text = \"Hello world!\"\n",
        "# Index starts from 0\n",
        "# Returns index + 1 as an output\n",
        "print(\"Character at index 7 is : \", text[7])"
      ],
      "metadata": {
        "colab": {
          "base_uri": "https://localhost:8080/"
        },
        "id": "TjhI4InPmnIv",
        "outputId": "73fc9fd7-71f9-41bb-e78a-e67a9f82b526"
      },
      "execution_count": 11,
      "outputs": [
        {
          "output_type": "stream",
          "name": "stdout",
          "text": [
            "Character at index 7 is :  o\n"
          ]
        }
      ]
    },
    {
      "cell_type": "markdown",
      "source": [
        "## Slicing of text"
      ],
      "metadata": {
        "id": "E1Cw_0YXnBXm"
      }
    },
    {
      "cell_type": "code",
      "source": [
        "text = \"Hello world!\"\n",
        "# Strats from index 4 (index starts from 0)\n",
        "# stops at index 6 (end index - 1)\n",
        "print(\"text at index 4 to 6 is  : \", text[4:7])\n",
        "\n",
        "# Text within range\n",
        "print(\"text at index 1 to 4 is  : \", text[1:5])\n",
        "\n",
        "# Print from index 1, no upper bound\n",
        "print(\"text from index 1 is  : \", text[1:])\n",
        "\n",
        "# Print first 5 characters from the beginning\n",
        "print(\"text till index 4 : \", text[:5])"
      ],
      "metadata": {
        "colab": {
          "base_uri": "https://localhost:8080/"
        },
        "id": "qdLPLPEmm8hx",
        "outputId": "8a6fa36b-259b-4491-e5da-dd3f7a1862ad"
      },
      "execution_count": 27,
      "outputs": [
        {
          "output_type": "stream",
          "name": "stdout",
          "text": [
            "text at index 4 to 6 is  :  o w\n",
            "text at index 1 to 4 is  :  ello\n",
            "text from index 1 is  :  ello world!\n",
            "text till index 4 :  Hello\n"
          ]
        }
      ]
    },
    {
      "cell_type": "markdown",
      "source": [
        "## Negative Indexing"
      ],
      "metadata": {
        "id": "K18jS_w8opW5"
      }
    },
    {
      "cell_type": "code",
      "source": [
        "text = \"My name is pavithra\"\n",
        "# Negative index starts with -1\n",
        "print(\"Last 8 characters\", text[-8:])\n",
        "# start from -8 go up to -2\n",
        "print(\"Last 8 characters\", text[-8:-2])\n"
      ],
      "metadata": {
        "colab": {
          "base_uri": "https://localhost:8080/"
        },
        "id": "0KYUokt8nIuZ",
        "outputId": "162ced3e-1da6-496f-ce4b-94f4e1f2649d"
      },
      "execution_count": 26,
      "outputs": [
        {
          "output_type": "stream",
          "name": "stdout",
          "text": [
            "Last 8 characters pavithra\n",
            "Last 8 characters pavith\n"
          ]
        }
      ]
    },
    {
      "cell_type": "markdown",
      "source": [
        "## Concatenation"
      ],
      "metadata": {
        "id": "0hSSXyJQpZcX"
      }
    },
    {
      "cell_type": "code",
      "source": [
        "text1 = \"Hello!\"\n",
        "text2 = \"How are you!!\"\n",
        "concatenated = text1 + \" \" + text2\n",
        "print(concatenated)"
      ],
      "metadata": {
        "colab": {
          "base_uri": "https://localhost:8080/"
        },
        "id": "S_tQ0r83ox1B",
        "outputId": "588d96ca-3b9b-47ef-b207-2d69d3c5df12"
      },
      "execution_count": 29,
      "outputs": [
        {
          "output_type": "stream",
          "name": "stdout",
          "text": [
            "Hello! How are you!!\n"
          ]
        }
      ]
    },
    {
      "cell_type": "markdown",
      "source": [
        "## String functions"
      ],
      "metadata": {
        "id": "VCT4A48Bpp0C"
      }
    },
    {
      "cell_type": "code",
      "source": [
        "name = \"My name is pavithra\"\n",
        "print(\"Length of my name is  : \", len(name[-8:]))"
      ],
      "metadata": {
        "colab": {
          "base_uri": "https://localhost:8080/"
        },
        "id": "AWjUJmBgpivo",
        "outputId": "5e2c0cc5-48ba-4c74-d86e-f2605bc03406"
      },
      "execution_count": 31,
      "outputs": [
        {
          "output_type": "stream",
          "name": "stdout",
          "text": [
            "Length of my name is  :  8\n"
          ]
        }
      ]
    },
    {
      "cell_type": "markdown",
      "source": [
        "## The \"in\" syntax"
      ],
      "metadata": {
        "id": "mM9gRwjWp9UU"
      }
    },
    {
      "cell_type": "code",
      "source": [
        "sub_string = \"pav\"\n",
        "name = \"pavithra\"\n",
        "print(sub_string in name)\n",
        "\n",
        "sub_string = \"tra \"\n",
        "name = \"pavithra\"\n",
        "print(sub_string in name)"
      ],
      "metadata": {
        "colab": {
          "base_uri": "https://localhost:8080/"
        },
        "id": "2XpSpPCDpw-Y",
        "outputId": "af440198-9632-48b2-cfbd-647ec1bbe907"
      },
      "execution_count": 36,
      "outputs": [
        {
          "output_type": "stream",
          "name": "stdout",
          "text": [
            "True\n",
            "False\n"
          ]
        }
      ]
    },
    {
      "cell_type": "markdown",
      "source": [
        "## Iterate String characters"
      ],
      "metadata": {
        "id": "7_yoSXTMqX60"
      }
    },
    {
      "cell_type": "code",
      "source": [
        "name = \"Pavithra\"\n",
        "for char in name:\n",
        "    print(char)"
      ],
      "metadata": {
        "colab": {
          "base_uri": "https://localhost:8080/"
        },
        "id": "xyDR_DsNqMV4",
        "outputId": "3d936bf2-2ce8-4409-c448-6ff37d201902"
      },
      "execution_count": 37,
      "outputs": [
        {
          "output_type": "stream",
          "name": "stdout",
          "text": [
            "P\n",
            "a\n",
            "v\n",
            "i\n",
            "t\n",
            "h\n",
            "r\n",
            "a\n"
          ]
        }
      ]
    },
    {
      "cell_type": "markdown",
      "source": [
        "## Formatting Strings"
      ],
      "metadata": {
        "id": "S3iw0xa9qlEe"
      }
    },
    {
      "cell_type": "code",
      "source": [
        "name = input(\"Enter your name: \")\n",
        "sentence = \"My name is {name_from_input}\".format(name_from_input = name)\n",
        "print(sentence)"
      ],
      "metadata": {
        "colab": {
          "base_uri": "https://localhost:8080/"
        },
        "id": "dh-5ruVxqdMo",
        "outputId": "5504c9f5-f740-4b50-c4a8-369d7c167ee5"
      },
      "execution_count": 38,
      "outputs": [
        {
          "output_type": "stream",
          "name": "stdout",
          "text": [
            "Enter your name: Pavithra\n",
            "My name is Pavithra\n"
          ]
        }
      ]
    },
    {
      "cell_type": "markdown",
      "source": [
        "## Upper Case and Lower case"
      ],
      "metadata": {
        "id": "n-TUmX8brCCY"
      }
    },
    {
      "cell_type": "code",
      "source": [
        "name = \"Pavithra\"\n",
        "print(\"Lower case : \", name.lower())\n",
        "print(\"Upper case: \", name.upper())"
      ],
      "metadata": {
        "colab": {
          "base_uri": "https://localhost:8080/"
        },
        "id": "mDtUFyzEq2rI",
        "outputId": "d51f0088-8754-4736-ff75-5ed6f417c6c2"
      },
      "execution_count": 40,
      "outputs": [
        {
          "output_type": "stream",
          "name": "stdout",
          "text": [
            "Lower case :  pavithra\n",
            "Upper case:  PAVITHRA\n"
          ]
        }
      ]
    },
    {
      "cell_type": "markdown",
      "source": [
        "## Remove leading and trailing spaces"
      ],
      "metadata": {
        "id": "9TjHxTgsrPE4"
      }
    },
    {
      "cell_type": "code",
      "source": [
        "name = \"  pavithra      \"\n",
        "print(name.strip())"
      ],
      "metadata": {
        "colab": {
          "base_uri": "https://localhost:8080/"
        },
        "id": "FK4Ke9aSrJDV",
        "outputId": "849a54d8-de6f-432e-c506-75fb0673b215"
      },
      "execution_count": 42,
      "outputs": [
        {
          "output_type": "stream",
          "name": "stdout",
          "text": [
            "pavithra\n"
          ]
        }
      ]
    },
    {
      "cell_type": "markdown",
      "source": [
        "## Split String"
      ],
      "metadata": {
        "id": "NPHBu_L8rhw-"
      }
    },
    {
      "cell_type": "code",
      "source": [
        "text = \"Silicon Valley\"\n",
        "arr = text.split(\" \")\n",
        "print(\"Split by space : \", arr)\n",
        "\n",
        "arr = text.split(\"l\")\n",
        "print(\"Split by character l is : \", arr)"
      ],
      "metadata": {
        "colab": {
          "base_uri": "https://localhost:8080/"
        },
        "id": "ze1QQ6F8rYEn",
        "outputId": "8a623cd3-55d2-44b9-b454-7de2400ade59"
      },
      "execution_count": 44,
      "outputs": [
        {
          "output_type": "stream",
          "name": "stdout",
          "text": [
            "Split by space :  ['Silicon', 'Valley']\n",
            "Split by character l is :  ['Si', 'icon Va', '', 'ey']\n"
          ]
        }
      ]
    },
    {
      "cell_type": "markdown",
      "source": [
        "## Find and Replace"
      ],
      "metadata": {
        "id": "ALZCrsT4r7ed"
      }
    },
    {
      "cell_type": "code",
      "source": [
        "name = \"Pavithra\"\n",
        "# Find - returns the index on which the character/substring occurs in the string\n",
        "print(name.find(\"h\"))\n",
        "# Returns -1 if character not found\n",
        "print(name.find(\"s\"))\n",
        "# search substring\n",
        "print(name.find(\"av\"))\n",
        "# replace a character with another\n",
        "if name.find(\"a\"):\n",
        "    name = name.replace(\"a\", \"A\")\n",
        "    print(name)"
      ],
      "metadata": {
        "colab": {
          "base_uri": "https://localhost:8080/"
        },
        "id": "iWwqzRtBrrmw",
        "outputId": "841249da-96c3-43e6-9530-539f81e90c2a"
      },
      "execution_count": 51,
      "outputs": [
        {
          "output_type": "stream",
          "name": "stdout",
          "text": [
            "5\n",
            "-1\n",
            "1\n",
            "PAvithrA\n"
          ]
        }
      ]
    },
    {
      "cell_type": "markdown",
      "source": [
        "## Join"
      ],
      "metadata": {
        "id": "27_kP-dasmD8"
      }
    },
    {
      "cell_type": "code",
      "source": [
        "# Concatenates a list of strings to a new string\n",
        "arr = ['silicon', 'valley']\n",
        "new_text = \" \".join(arr)\n",
        "print(new_text)"
      ],
      "metadata": {
        "colab": {
          "base_uri": "https://localhost:8080/"
        },
        "id": "2nv102bTsFTv",
        "outputId": "c6b7b612-d85d-4ce6-93ed-a149fdc5f905"
      },
      "execution_count": 54,
      "outputs": [
        {
          "output_type": "stream",
          "name": "stdout",
          "text": [
            "silicon valley\n"
          ]
        }
      ]
    }
  ]
}