{
  "nbformat": 4,
  "nbformat_minor": 0,
  "metadata": {
    "colab": {
      "provenance": []
    },
    "kernelspec": {
      "name": "python3",
      "display_name": "Python 3"
    },
    "language_info": {
      "name": "python"
    }
  },
  "cells": [
    {
      "cell_type": "code",
      "execution_count": 1,
      "metadata": {
        "colab": {
          "base_uri": "https://localhost:8080/"
        },
        "id": "RL673XsyafTo",
        "outputId": "a459d3e5-bb65-4f2e-e353-ca76d4d62069"
      },
      "outputs": [
        {
          "output_type": "stream",
          "name": "stdout",
          "text": [
            "Hello World\n"
          ]
        }
      ],
      "source": [
        "print(\"Hello World\")"
      ]
    },
    {
      "cell_type": "markdown",
      "source": [
        "# Comments in Python"
      ],
      "metadata": {
        "id": "nFvlFtVea1lR"
      }
    },
    {
      "cell_type": "code",
      "source": [
        "# Assign a value to the variable b\n",
        "b = 5"
      ],
      "metadata": {
        "id": "fjAtDmIMaxgU"
      },
      "execution_count": 3,
      "outputs": []
    },
    {
      "cell_type": "markdown",
      "source": [
        "# Operators in python"
      ],
      "metadata": {
        "id": "io2WmnO6bF4O"
      }
    },
    {
      "cell_type": "markdown",
      "source": [
        "## Arithmetic Operators"
      ],
      "metadata": {
        "id": "8yXM12u_cKWa"
      }
    },
    {
      "cell_type": "code",
      "source": [
        "x = 5\n",
        "y = 10\n",
        "print(\"The two variables are\")\n",
        "print(\"X : \", x)\n",
        "print(\"Y: \", y)\n",
        "# Addition\n",
        "print(\"Addition : \", x + y)\n",
        "# Subtraction\n",
        "print(\"Subtraction : \", x - y)\n",
        "# multiplication\n",
        "print(\"Multiplication : \" ,  x * y)\n",
        "# Division\n",
        "print(\"Division : \", x / y)\n",
        "# MOD\n",
        "print(\"Division : \", x % y)\n",
        "# Exponention\n",
        "print(\"Exponention : \", x ** 2)\n",
        "# Floor Division\n",
        "print(\"Floor Division : \", 15//7)"
      ],
      "metadata": {
        "colab": {
          "base_uri": "https://localhost:8080/"
        },
        "id": "uhVwPFn5bFId",
        "outputId": "519cb734-cb26-46bb-bec4-c57eaf8932fc"
      },
      "execution_count": 17,
      "outputs": [
        {
          "output_type": "stream",
          "name": "stdout",
          "text": [
            "The two variables are\n",
            "X :  5\n",
            "Y:  10\n",
            "Addition :  15\n",
            "Subtraction :  -5\n",
            "Multiplication :  50\n",
            "Division :  0.5\n",
            "Division :  5\n",
            "Exponention :  25\n",
            "Floor Division :  2\n"
          ]
        }
      ]
    },
    {
      "cell_type": "markdown",
      "source": [
        "# Comparison Operators"
      ],
      "metadata": {
        "id": "e4L49NqTcNaG"
      }
    },
    {
      "cell_type": "code",
      "source": [
        "print(\"Less than operation: 2 < 3\", 2 < 3)\n",
        "print(\"Less than operation: 4 < 3\", 4 < 3)"
      ],
      "metadata": {
        "colab": {
          "base_uri": "https://localhost:8080/"
        },
        "id": "0eOJwU63a_ys",
        "outputId": "0724e2e1-fbcf-4a3c-e6bc-80d23ffb6312"
      },
      "execution_count": 21,
      "outputs": [
        {
          "output_type": "stream",
          "name": "stdout",
          "text": [
            "Less than operation: 2 < 3 True\n",
            "Less than operation: 4 < 3 False\n"
          ]
        }
      ]
    },
    {
      "cell_type": "code",
      "source": [],
      "metadata": {
        "id": "RKug8F4aezhN"
      },
      "execution_count": null,
      "outputs": []
    }
  ]
}