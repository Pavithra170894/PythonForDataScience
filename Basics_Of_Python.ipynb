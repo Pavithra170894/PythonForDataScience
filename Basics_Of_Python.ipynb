{
  "nbformat": 4,
  "nbformat_minor": 0,
  "metadata": {
    "colab": {
      "provenance": []
    },
    "kernelspec": {
      "name": "python3",
      "display_name": "Python 3"
    },
    "language_info": {
      "name": "python"
    }
  },
  "cells": [
    {
      "cell_type": "code",
      "execution_count": 1,
      "metadata": {
        "colab": {
          "base_uri": "https://localhost:8080/"
        },
        "id": "RL673XsyafTo",
        "outputId": "a459d3e5-bb65-4f2e-e353-ca76d4d62069"
      },
      "outputs": [
        {
          "output_type": "stream",
          "name": "stdout",
          "text": [
            "Hello World\n"
          ]
        }
      ],
      "source": [
        "print(\"Hello World\")"
      ]
    },
    {
      "cell_type": "markdown",
      "source": [
        "# Comments in Python"
      ],
      "metadata": {
        "id": "nFvlFtVea1lR"
      }
    },
    {
      "cell_type": "code",
      "source": [
        "# Assign a value to the variable b\n",
        "b = 5"
      ],
      "metadata": {
        "id": "fjAtDmIMaxgU"
      },
      "execution_count": 3,
      "outputs": []
    },
    {
      "cell_type": "markdown",
      "source": [
        "# Operators in python"
      ],
      "metadata": {
        "id": "io2WmnO6bF4O"
      }
    },
    {
      "cell_type": "markdown",
      "source": [
        "## Arithmetic Operators"
      ],
      "metadata": {
        "id": "8yXM12u_cKWa"
      }
    },
    {
      "cell_type": "code",
      "source": [
        "x = 5\n",
        "y = 10\n",
        "print(\"The two variables are\")\n",
        "print(\"X : \", x)\n",
        "print(\"Y: \", y)\n",
        "# Addition\n",
        "print(\"Addition : \", x + y)\n",
        "# Subtraction\n",
        "print(\"Subtraction : \", x - y)\n",
        "# multiplication\n",
        "print(\"Multiplication : \" ,  x * y)\n",
        "# Division\n",
        "print(\"Division : \", x / y)\n",
        "# MOD\n",
        "print(\"Division : \", x % y)\n",
        "# Exponention\n",
        "print(\"Exponention : \", x ** 2)\n",
        "# Floor Division\n",
        "print(\"Floor Division : \", 15//7)"
      ],
      "metadata": {
        "colab": {
          "base_uri": "https://localhost:8080/"
        },
        "id": "uhVwPFn5bFId",
        "outputId": "519cb734-cb26-46bb-bec4-c57eaf8932fc"
      },
      "execution_count": 17,
      "outputs": [
        {
          "output_type": "stream",
          "name": "stdout",
          "text": [
            "The two variables are\n",
            "X :  5\n",
            "Y:  10\n",
            "Addition :  15\n",
            "Subtraction :  -5\n",
            "Multiplication :  50\n",
            "Division :  0.5\n",
            "Division :  5\n",
            "Exponention :  25\n",
            "Floor Division :  2\n"
          ]
        }
      ]
    },
    {
      "cell_type": "markdown",
      "source": [
        "## Comparison Operators"
      ],
      "metadata": {
        "id": "e4L49NqTcNaG"
      }
    },
    {
      "cell_type": "code",
      "source": [
        "print(\"Less than operation: 2 < 3\", 2 < 3)\n",
        "print(\"Less than operation: 4 < 3\", 4 < 3)\n",
        "print(\"Greater than operation: 2 > 3\", 2 > 3)\n",
        "print(\"Greater than operation: 4 > 3\", 4 > 3)\n",
        "print(\"Equality operation: 4 == 3\", 4 == 3)\n",
        "print(\"Equality operation: 4 == 4\", 4 == 4)\n",
        "print(\"Equality operation: 'TEST' == 'PYTHON'\", \"TEST\" == \"PYTHON\")\n",
        "print(\"Equality operation: 'TEST' == 'TEST'\", \"TEST\" == \"TEST\")\n",
        "print(\"Equality operation: 'a' == 'a'\", 'a' == 'a')\n",
        "print(\"Greater operation: 'TEST' > 'PYTHON'\", \"TEST\" > \"PYTHON\")\n",
        "print(\"Greater than ore equal to operation: 4 >= 3\", 4 >= 3)\n",
        "print(\"Less than or equal to operation: 2 <= 3\", 2 <= 3)\n",
        "print(\"Not equal to operation: 2 != 3\", 2 <= 3)"
      ],
      "metadata": {
        "colab": {
          "base_uri": "https://localhost:8080/"
        },
        "id": "0eOJwU63a_ys",
        "outputId": "acf0f03f-362e-450b-c14e-31be3f41590f"
      },
      "execution_count": 31,
      "outputs": [
        {
          "output_type": "stream",
          "name": "stdout",
          "text": [
            "Less than operation: 2 < 3 True\n",
            "Less than operation: 4 < 3 False\n",
            "Greater than operation: 2 > 3 False\n",
            "Greater than operation: 4 > 3 True\n",
            "Equality operation: 4 == 3 False\n",
            "Equality operation: 4 == 4 True\n",
            "Equality operation: 'TEST' == 'PYTHON' False\n",
            "Equality operation: 'TEST' == 'TEST' True\n",
            "Equality operation: 'a' == 'a' True\n",
            "Greater operation: 'TEST' > 'PYTHON' True\n",
            "Greater than ore equal to operation: 4 >= 3 True\n",
            "Less than or equal to operation: 2 <= 3 True\n",
            "Not equal to operation: 2 != 3 True\n"
          ]
        }
      ]
    },
    {
      "cell_type": "markdown",
      "source": [
        "## Logical Operators"
      ],
      "metadata": {
        "id": "4T7waIPohacI"
      }
    },
    {
      "cell_type": "code",
      "source": [
        "# AND Operation\n",
        "print(\"AND OPERATION : (1<3) and (4>2)\", (1<3) and (4>2))\n",
        "# OR Operation\n",
        "print(\"OR OPERATION : (1<3) or (4<3)\", (1<3) or (4<3))\n",
        "# NOT Operation\n",
        "print(\"NOT OPERATION : NOT((1<3) or (4<3))\", not((1<3) or (4<3)))"
      ],
      "metadata": {
        "colab": {
          "base_uri": "https://localhost:8080/"
        },
        "id": "RKug8F4aezhN",
        "outputId": "6be3cee1-f6b2-41d7-fb65-73de7a547ad2"
      },
      "execution_count": 38,
      "outputs": [
        {
          "output_type": "stream",
          "name": "stdout",
          "text": [
            "AND OPERATION : (1<3) and (4>2) True\n",
            "OR OPERATION : (1<3) or (4<3) True\n",
            "NOT OPERATION : NOT((1<3) or (4<3)) False\n"
          ]
        }
      ]
    },
    {
      "cell_type": "markdown",
      "source": [
        "# Variables"
      ],
      "metadata": {
        "id": "a_gLEcjMjBXS"
      }
    },
    {
      "cell_type": "code",
      "source": [
        "x = 5\n",
        "test = \"PYTHON BASICS\" \n",
        "print(x, test)"
      ],
      "metadata": {
        "colab": {
          "base_uri": "https://localhost:8080/"
        },
        "id": "JRIfwwYqil_i",
        "outputId": "e13cae77-3e0d-4b48-fb71-5bd5ba1a56a4"
      },
      "execution_count": 40,
      "outputs": [
        {
          "output_type": "stream",
          "name": "stdout",
          "text": [
            "5 PYTHON BASICS\n"
          ]
        }
      ]
    },
    {
      "cell_type": "markdown",
      "source": [
        "# Input and Output"
      ],
      "metadata": {
        "id": "sIkpyGjMjUA6"
      }
    },
    {
      "cell_type": "code",
      "source": [
        "# Input\n",
        "name = input(\"Enter your name : \")\n",
        "age = int(input(\"Enter your age: \"))\n",
        "\n",
        "# Output\n",
        "print(\"Name : \", name)\n",
        "print(\"Age : \", age)"
      ],
      "metadata": {
        "colab": {
          "base_uri": "https://localhost:8080/"
        },
        "id": "gkXeggkjjIPC",
        "outputId": "cf88553c-6cd8-4538-af27-392a3638e84c"
      },
      "execution_count": 41,
      "outputs": [
        {
          "output_type": "stream",
          "name": "stdout",
          "text": [
            "Enter your name : Pavithra\n",
            "Enter your age: 28\n",
            "Name :  Pavithra\n",
            "Age :  28\n"
          ]
        }
      ]
    },
    {
      "cell_type": "markdown",
      "source": [
        "Exercise - Coding Challenge"
      ],
      "metadata": {
        "id": "SJ06L1LPjzhe"
      }
    },
    {
      "cell_type": "markdown",
      "source": [
        "Consider two numbers, a = 5, b = 16. Write a Python program to print the sum of these two numbers"
      ],
      "metadata": {
        "id": "T2TdOdYaj253"
      }
    },
    {
      "cell_type": "code",
      "source": [
        "a = 5\n",
        "b = 16\n",
        "\n",
        "print(\"Sum of a: \", a , \"and b: \", b, \"is : \", a + b)"
      ],
      "metadata": {
        "colab": {
          "base_uri": "https://localhost:8080/"
        },
        "id": "KssJUg0Ijrga",
        "outputId": "5302ba2e-72b4-4605-863e-6ce3cc3e5dd4"
      },
      "execution_count": 44,
      "outputs": [
        {
          "output_type": "stream",
          "name": "stdout",
          "text": [
            "Sum of a:  5 and b:  16 is :  21\n"
          ]
        }
      ]
    },
    {
      "cell_type": "markdown",
      "source": [
        "Write a Python program to take a number from the user as input and print the cube of the number.\n"
      ],
      "metadata": {
        "id": "9f6ZP0SFkMsP"
      }
    },
    {
      "cell_type": "code",
      "source": [
        "num = int(input(\"Enter a number : \"))\n",
        "\n",
        "print(\"The cube of a number is : \", num ** 3)"
      ],
      "metadata": {
        "colab": {
          "base_uri": "https://localhost:8080/"
        },
        "id": "ypCGrI93kAyx",
        "outputId": "cc490241-b026-445c-f737-d1553ba81482"
      },
      "execution_count": 46,
      "outputs": [
        {
          "output_type": "stream",
          "name": "stdout",
          "text": [
            "Enter a number : 8\n",
            "The cube of a number is :  512\n"
          ]
        }
      ]
    }
  ]
}