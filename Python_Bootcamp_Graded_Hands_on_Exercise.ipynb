{
  "nbformat": 4,
  "nbformat_minor": 0,
  "metadata": {
    "kernelspec": {
      "display_name": "Python 3",
      "language": "python",
      "name": "python3"
    },
    "language_info": {
      "codemirror_mode": {
        "name": "ipython",
        "version": 3
      },
      "file_extension": ".py",
      "mimetype": "text/x-python",
      "name": "python",
      "nbconvert_exporter": "python",
      "pygments_lexer": "ipython3",
      "version": "3.7.6"
    },
    "colab": {
      "provenance": []
    }
  },
  "cells": [
    {
      "cell_type": "markdown",
      "metadata": {
        "id": "A8yCrhVHQ_lC"
      },
      "source": [
        "##Overview\n",
        "\n",
        "Dear Learner, \n",
        "\n",
        "Congratulations, you have studied Python all the way through the end of this bootcamp!!! This is the final graded hands-on exercise where you will be accomplishing the below mentioned task.\n",
        "\n",
        "Authors: Albana Celepija, Vinayak Deshpande"
      ]
    },
    {
      "cell_type": "markdown",
      "metadata": {
        "id": "y_B39vCQGRTH"
      },
      "source": [
        "###Task 1\n",
        "\n",
        "We have declared a tuple containing five same elements as following:\n",
        "T = (‘python’, ‘python’, ‘python’, ‘python’, ‘python’).\n",
        "Re-write the same code in an optimal/simple way that fetches the same result."
      ]
    },
    {
      "cell_type": "code",
      "source": [
        "T = tuple((\"python\", ) * 5)\n",
        "print(T)"
      ],
      "metadata": {
        "id": "I4tpU4Mwlu8Y",
        "colab": {
          "base_uri": "https://localhost:8080/"
        },
        "outputId": "b0ae6e09-3f6a-4625-d420-e005b69b5270"
      },
      "execution_count": 12,
      "outputs": [
        {
          "output_type": "stream",
          "name": "stdout",
          "text": [
            "('python', 'python', 'python', 'python', 'python')\n"
          ]
        }
      ]
    },
    {
      "cell_type": "markdown",
      "metadata": {
        "id": "H_8tFcijGRTQ"
      },
      "source": [
        "###Task 2\n",
        "\n",
        "Write code to print characters from a string that are present at an even index number.\n",
        "For example, if your input string is \"python\", the output characters will be (p,t,o)."
      ]
    },
    {
      "cell_type": "code",
      "source": [
        "text = input(\"Enter a string : \")\n",
        "output = list()\n",
        "for index, char in enumerate(text):\n",
        "    if index % 2 == 0:\n",
        "        output.append(char)\n",
        "print(tuple(output))"
      ],
      "metadata": {
        "colab": {
          "base_uri": "https://localhost:8080/"
        },
        "id": "eeAr5MklnkE5",
        "outputId": "76223a46-4837-45f8-d05f-3da7c113a4a4"
      },
      "execution_count": 19,
      "outputs": [
        {
          "output_type": "stream",
          "name": "stdout",
          "text": [
            "Enter a string : python\n",
            "('p', 't', 'o')\n"
          ]
        }
      ]
    },
    {
      "cell_type": "markdown",
      "metadata": {
        "id": "FbLVbwcsGRTT"
      },
      "source": [
        "### Task 3\n",
        "\n",
        "Write a function that calculates the average of the elements of the list: \n",
        "\n",
        "elements = [5, 7, 4, 9, 2]\n"
      ]
    },
    {
      "cell_type": "code",
      "source": [
        "def avg_of_list(arr:list):\n",
        "    no_of_ele = len(arr)\n",
        "    return sum(arr)/no_of_ele\n",
        "\n",
        "elements = [5, 7, 4, 9, 2]\n",
        "print(\"Average of the elements in the list is : \", avg_of_list(elements))"
      ],
      "metadata": {
        "colab": {
          "base_uri": "https://localhost:8080/"
        },
        "id": "izhvbztIodyx",
        "outputId": "58c47ffb-a619-47f1-c200-345cd8039e7a"
      },
      "execution_count": 20,
      "outputs": [
        {
          "output_type": "stream",
          "name": "stdout",
          "text": [
            "Average of the elements in the list is :  5.4\n"
          ]
        }
      ]
    },
    {
      "cell_type": "markdown",
      "metadata": {
        "id": "2pzfM3wS4oqt"
      },
      "source": [
        "### Task 4\n",
        "Write a code that takes a year as input and determines whether it is a leap year or not."
      ]
    },
    {
      "cell_type": "code",
      "source": [
        "def check_leap_year(year:int):\n",
        "    if year % 400 == 0:\n",
        "        print(\"It is a leap year\")\n",
        "    elif year % 4 == 0 and year % 100 != 0:\n",
        "        print(\"It is a leap year\")\n",
        "    else:\n",
        "        print(\"It is not a leap year\")\n",
        "\n",
        "for i in range(2):\n",
        "    year = int(input(\"Enter the year : \"))\n",
        "    check_leap_year(year)"
      ],
      "metadata": {
        "colab": {
          "base_uri": "https://localhost:8080/"
        },
        "id": "n_9_RDAZo_N4",
        "outputId": "d6bb3b46-dec2-4c90-d459-6a848925d9f7"
      },
      "execution_count": 25,
      "outputs": [
        {
          "output_type": "stream",
          "name": "stdout",
          "text": [
            "Enter the year : 1994\n",
            "It is not a leap year\n",
            "Enter the year : 1996\n",
            "It is a leap year\n"
          ]
        }
      ]
    },
    {
      "cell_type": "markdown",
      "metadata": {
        "id": "zsVw9yrD5drx"
      },
      "source": [
        "### Task 5\n",
        "Given a list of numbers (integers), find the sum of second maximum and second minimum in the following list.\n",
        "\n",
        "l = [21, 6, 12, 57, 35, 61]"
      ]
    },
    {
      "cell_type": "code",
      "source": [
        "l = [21, 6, 12, 57, 35, 61]\n",
        "ans = sorted(l)[-2] + sorted(l, reverse=True)[-2]\n",
        "print(\"Answer: \" , ans)"
      ],
      "metadata": {
        "colab": {
          "base_uri": "https://localhost:8080/"
        },
        "id": "1ascSRcSqung",
        "outputId": "3d2c745b-951b-4873-c5f9-9b599bb3e7f7"
      },
      "execution_count": 28,
      "outputs": [
        {
          "output_type": "stream",
          "name": "stdout",
          "text": [
            "Answer:  69\n"
          ]
        }
      ]
    },
    {
      "cell_type": "code",
      "source": [],
      "metadata": {
        "id": "j2Q_iOyYtrjg"
      },
      "execution_count": null,
      "outputs": []
    }
  ]
}